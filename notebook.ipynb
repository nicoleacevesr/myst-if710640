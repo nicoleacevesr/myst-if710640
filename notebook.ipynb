{
 "cells": [
  {
   "cell_type": "markdown",
   "metadata": {
    "collapsed": true
   },
   "source": [
    "<img src=\"http://oci02.img.iteso.mx/identidad_de_instancia_2018/ITESO/Logos%20ITESO/Logo-ITESO-Principal.jpg\">"
   ]
  },
  {
   "cell_type": "markdown",
   "metadata": {},
   "source": [
    "<center><font color=#555555><font size=6> Ingeniería Financiera </font> <br> <br>\n",
    "\n",
    "<center><font color=#555555><font size=5> ITE1731 - Microestructura y Sistemas de Trading </font> <br> <br> <br>\n",
    "\n",
<<<<<<< HEAD
    "<center><font color=#555555><font size=5> I.F. Nicole Aceves Ramírez </font> <br> <br>\n",
    "   \n",
    "<center> <font color= #555555> <font size = 4> 13 de Septiembre 2020 </a> | <font color= #555555> <font size = 4> Repositorio: <a href='https://github.com/nicoleacevesr/myst-if710640_lab1'>Link</a></font>"
=======
    "<center><font color=#555555><font size=5> I.F. Nombre Nombre Apellido Apellido </font> <br> <br>\n",
    "   \n",
    "<center> <font color= #555555> <font size = 4> Septiembre 2020 </a> | <font color= #555555> <font size = 4> Repositorio: <a href='https://github.com/'>Link</a></font>"
>>>>>>> 4ca41517bcba488aa6e093b9fa82a271ece54bfd
   ]
  },
  {
   "cell_type": "markdown",
   "metadata": {},
   "source": [
    "<br>"
   ]
  },
  {
   "cell_type": "markdown",
   "metadata": {},
   "source": [
    "---"
   ]
  },
  {
   "cell_type": "markdown",
   "metadata": {},
   "source": [
    "<br>"
   ]
  },
  {
   "cell_type": "markdown",
   "metadata": {},
   "source": [
    "<br>"
   ]
  },
  {
   "cell_type": "markdown",
   "metadata": {},
   "source": [
    "<center> <font color= #555555> <font size = 7> Laboratorio 1 </font> <br> <br> <font color= #555555> <font size = 5> Inversión del Capital </font>"
   ]
  },
  {
   "cell_type": "markdown",
   "metadata": {},
   "source": [
    "# <font color= #555555> <font size = 5> Abstract </font>"
   ]
  },
  {
   "cell_type": "markdown",
   "metadata": {},
   "source": [
<<<<<<< HEAD
    "<font color= #6B6B6B> <font size = 2> Este documento fue elaborado por **Nicole Aceves Ramírez**, como un trabajo parcial para la materia de **Microestructura y Sistemas de Trading - ITE1731**, la cual es parte del curriculum de la licenciatura en Ingeniería Financiera, ofertada por la universidad **ITESO**. En el presente trabajo se plantea la respuesta a la siguiente pregutna: *¿Qué estrategia de inversión propondrías si tu trabajo fuera administrar 1 Millón de pesos?*</font>"
=======
    "<font color= #6B6B6B> <font size = 2> Este documento fue elaborado por tu **nombre completo**, como un trabajo parcial para la materia de **Microestructura y Sistemas de Trading - ITE1731**, la cual es parte del curriculum de la licenciatura en Ingeniería Financiera, ofertada por la universidad **ITESO**. En el presente trabajo se plantea la respuesta a la siguiente pregutna: *¿Qué estrategia de inversión propondrías si tu trabajo fuera administrar 1 Millón de pesos?*</font>"
>>>>>>> 4ca41517bcba488aa6e093b9fa82a271ece54bfd
   ]
  },
  {
   "cell_type": "markdown",
   "metadata": {},
   "source": [
    "<br>"
   ]
  },
  {
   "cell_type": "markdown",
   "metadata": {},
   "source": [
    "# <font color= #6B6B6B> <font size = 6> 0. Librerías y Dependencias </font>"
   ]
  },
  {
   "cell_type": "markdown",
   "metadata": {},
   "source": [
    "<hr style=\"border:0.02in solid gray\"> </hr>"
   ]
  },
  {
   "cell_type": "markdown",
   "metadata": {},
   "source": [
    "# <font color= #6B6B6B> <font size = 5> 0.1 Librerías </font> <font color= #555555>"
   ]
  },
  {
   "cell_type": "markdown",
   "metadata": {},
   "source": [
    "Para correr este notebook es necesario tener instaladas y/o en el archivo _requirements.txt_ las siguientes librerías :"
   ]
  },
  {
   "cell_type": "markdown",
   "metadata": {},
   "source": [
    "- pandas>=1.1.1 \n",
    "- numpy>=1.19.1\n",
    "- jupyter>=1.0.0\n",
    "- yfinance>=0.1.54"
   ]
  },
  {
   "cell_type": "markdown",
   "metadata": {},
   "source": [
    "# <font color= #6B6B6B> <font size = 5> 0.2 Dependencias </font> <font color= #555555>"
   ]
  },
  {
   "cell_type": "markdown",
   "metadata": {},
   "source": [
    "Para correr este notebook es necesario contar con los siguientes archivos y dependencias externas:"
   ]
  },
  {
   "cell_type": "markdown",
   "metadata": {},
   "source": [
    "- files/precios.csv : Precios históricos\n",
    "- files/datos.txt : Otros datos históricos"
   ]
  },
  {
   "cell_type": "markdown",
   "metadata": {},
   "source": [
    "<br>"
   ]
  },
  {
   "cell_type": "markdown",
   "metadata": {},
   "source": [
    "# <font color= #6B6B6B> <font size = 6> 1. Introducción </font>"
   ]
  },
  {
   "cell_type": "markdown",
   "metadata": {},
   "source": [
    "<hr style=\"border:0.02in solid gray\"> </hr>"
   ]
  },
  {
   "cell_type": "markdown",
   "metadata": {},
<<<<<<< HEAD
   "source": [
    "Durante este primer módulo lo que se estudió fue la inversión del capital. Con esto se puso en práctica la inversión pasiva y la inversión activa, esto con el propósito de comprender como funcionan ambas opciones como estrategia de solución.\n",
    "Lo que se busca con la inversión pasiva es tratar de imitar el comportamiento de un índice, en el caso de este laboratorio, el NAFTRAC, que replica el mercado de renta variable de México S&P/BMV IPC.  \n",
    "\n",
    "Para el caso de esta gestión, se busca comprar el 100% del capital en títulos de este ETF. Esta sigue el comportamiento del mercado, confiando plenamente es la eficiencia que este puede tener. Es una estrategia atractiva para invertir debido a que no se tiene que elegir los activos en los que se invertirán, los activos tienen la misma ponderación que en el índice, lo que indica que, si el peso del activo aumenta, las ganancias también y viceversa. Además, a largo plazo puede ser beneficioso ya que nunca batiría al mercado, sin embargo, esto también puede ser una desventaja, si lo que se busca es obtener mejor rentabilidad. Otra ventaja es que se diversifica, ya que estamos invirtiendo en todas las empresas, no en activos individuales.  Por otro lado, como desventaja, está claro que nunca se podrá batir el mercado, por lo que queremos tener una rentabilidad alta en un plazo corto, esta no es una buena opción.\n",
    "\n",
    "En cuanto a la gestión activa, esta busca batir al mercado. Contrario a la pasiva, esta busca generar más rentabilidad, ya que no estamos invirtiendo en la misma proporción, si no que se eligen los activos de acuerdo con el perfil de cada inversor. Cabe destacar que hay que tener cuidado con la gestión, ya que podría tener más rentabilidad, pero al mismo tiempo podría ser peligroso. En cuanto a esta práctica, se busca crear un portafolio que contenga los mismos activos del ETF y realizar un rebalanceo. Lo que tiene de atractivo la inversión activa es que se puede adaptar fácilmente al perfil del inversor y puede rebasar la media, además las comisiones son mucho más elevadas que las de fondos de gestión pasiva. Una desventaja, como bien se ha dicho antes es que, a largo plazo, no logra vencer al mercado.\n",
    "\n",
    "¿Qué estrategia podría ser mejor?\n"
   ]
=======
   "source": []
>>>>>>> 4ca41517bcba488aa6e093b9fa82a271ece54bfd
  },
  {
   "cell_type": "markdown",
   "metadata": {},
   "source": [
    "<br>"
   ]
  },
  {
   "cell_type": "markdown",
   "metadata": {},
   "source": [
    "# <font color= #6B6B6B> <font size = 6> 2. Objetivos </font>"
   ]
  },
  {
   "cell_type": "markdown",
   "metadata": {},
   "source": [
    "<hr style=\"border:0.02in solid gray\"> </hr>"
   ]
  },
  {
   "cell_type": "markdown",
   "metadata": {},
<<<<<<< HEAD
   "source": [
    "Primero que nada, el objetivo de este laboratorio es comprender el funcionamiento de cada tipo de inversión de capital y determinar en que casos puede ser mejor cada uno. En general lo que se busca lograr es:\n",
    "\n",
    "- Realizar una serie de tiempo que no indique como va evolionando el capital haciendo inversión pasiva.\n",
    "- Realizar una serie de tiempo que no indique como va evolionando el capital haciendo inversión activa.\n",
    "- Realizar una tabla con el histórico de todas las operaciones que se realizan en la estrategia de inversión activa.\n",
    "- Realizar una tabla comparativa con Médidas de Atribución al Desempeño\n",
    "\n",
    "Una vez hecho esto, podremos comparar el funcionamiento de ambas concluir que estrategia es mejor."
   ]
=======
   "source": []
>>>>>>> 4ca41517bcba488aa6e093b9fa82a271ece54bfd
  },
  {
   "cell_type": "markdown",
   "metadata": {},
   "source": [
    "<br>"
   ]
  },
  {
   "cell_type": "markdown",
   "metadata": {},
   "source": [
    "# <font color= #6B6B6B> <font size = 6> 3. Datos </font>"
   ]
  },
  {
   "cell_type": "markdown",
   "metadata": {},
   "source": [
    "<hr style=\"border:0.02in solid gray\"> </hr>"
   ]
  },
  {
   "cell_type": "markdown",
   "metadata": {},
<<<<<<< HEAD
   "source": [
    "Ls datos utilizados para realizar este laboratorio son del NAFTRAC.\n",
    "\n",
    "Este es un ETF que nace en 2002. Busca replicar el compportamiento del IPC de la BMV, por lo que se puede decir que si estas invirtiendo en él, estas invirtiendo en acciones del IPC. Algunas de sus ventajas son la diversificación, la indexación y menores costos operativos.\n",
    "\n",
    "Cabe destacar que es el primer intrumento de su tipo en Latinoamerica. Ha sido todo un éxito, ocupando un excelente lugar en términos bursátiles."
=======
   "source": []
  },
  {
   "cell_type": "code",
   "execution_count": 1,
   "metadata": {},
   "outputs": [],
   "source": [
    "# En esta sección es opcional incluir código para mostrar/visualizar\n",
    "# los datos con los que se trabajó en el laboratorio"
>>>>>>> 4ca41517bcba488aa6e093b9fa82a271ece54bfd
   ]
  },
  {
   "cell_type": "markdown",
   "metadata": {},
   "source": [
    "<br>"
   ]
  },
  {
   "cell_type": "markdown",
   "metadata": {},
   "source": [
    "# <font color= #6B6B6B> <font size = 6> 4. Procesos </font>"
   ]
  },
  {
   "cell_type": "markdown",
   "metadata": {},
   "source": [
    "<hr style=\"border:0.02in solid gray\"> </hr>"
   ]
  },
  {
   "cell_type": "markdown",
   "metadata": {},
   "source": []
  },
  {
   "cell_type": "code",
<<<<<<< HEAD
   "execution_count": 6,
=======
   "execution_count": 2,
>>>>>>> 4ca41517bcba488aa6e093b9fa82a271ece54bfd
   "metadata": {},
   "outputs": [],
   "source": [
    "# aqui se incluye toda la secuencia de main.py.\n",
<<<<<<< HEAD
    "# tomando los pasos en los que fuiste haciendo todos los calculos"
   ]
  },
  {
   "cell_type": "code",
   "execution_count": 7,
   "metadata": {},
   "outputs": [],
   "source": [
    "import data as dat\n",
    "import functions as func\n",
    "import visualizations as vis\n",
    "import pandas as pd\n",
    "from os.path import isfile, join\n",
    "from os import listdir, path\n",
    "import yfinance "
   ]
  },
  {
   "cell_type": "code",
   "execution_count": 8,
   "metadata": {},
   "outputs": [],
   "source": [
    "pd.set_option('display.max_rows', None)\n",
    "pd.set_option('display.max_columns', None)\n",
    "pd.set_option('display.width', None)\n",
    "pd.set_option('display.expand_frame_repr', False)"
   ]
  },
  {
   "cell_type": "code",
   "execution_count": 9,
   "metadata": {},
   "outputs": [],
   "source": [
    "#Archivos ordenados por fecha\n",
    "\n",
    "path = path.abspath('files/')\n",
    "archivos = dat.fun(path)\n"
   ]
  },
  {
   "cell_type": "code",
   "execution_count": 10,
   "metadata": {},
   "outputs": [],
   "source": [
    "data_archivos= dat.limpieza_archivos(archivos)"
   ]
  },
  {
   "cell_type": "code",
   "execution_count": 11,
   "metadata": {},
   "outputs": [],
   "source": [
    "ic_fechas = func.fecha_mensual(archivos)\n"
   ]
  },
  {
   "cell_type": "code",
   "execution_count": 12,
   "metadata": {},
   "outputs": [],
   "source": [
    "global_tickers = func.gtickers(archivos,data_archivos)"
   ]
  },
  {
   "cell_type": "code",
   "execution_count": 13,
   "metadata": {},
   "outputs": [
    {
     "name": "stdout",
     "output_type": "stream",
     "text": [
      "[*********************100%***********************]  39 of 39 completed\n",
      "Se tardo 7.08 segundos\n"
     ]
    }
   ],
   "source": [
    "data = func.desc_datos(global_tickers)"
   ]
  },
  {
   "cell_type": "code",
   "execution_count": 14,
   "metadata": {},
   "outputs": [],
   "source": [
    "data_close = func.closed_data(data,global_tickers)"
   ]
  },
  {
   "cell_type": "code",
   "execution_count": 15,
   "metadata": {},
   "outputs": [],
   "source": [
    "ic_fechas = func.fechas_y(data_close,ic_fechas)"
   ]
  },
  {
   "cell_type": "code",
   "execution_count": 16,
   "metadata": {},
   "outputs": [],
   "source": [
    "precios = func.precios_f(data_close,ic_fechas)"
   ]
  },
  {
   "cell_type": "code",
   "execution_count": 17,
   "metadata": {},
   "outputs": [],
   "source": [
    "#INVERSION PASIVA\n",
    "\n",
    "# capital inicial\n",
    "k = 1000000\n",
    "# comisiones por transaccion\n",
    "c = 0.00125\n",
    "\n",
    "# Eliminamos porcentajes de KOFUBL, KOFL, BSMXB, MXN, USD\n",
    "eliminacion = ['KOFL', 'KOFUBL', 'BSMXB', 'MXN', 'USD']"
   ]
  },
  {
   "cell_type": "code",
   "execution_count": 18,
   "metadata": {},
   "outputs": [],
   "source": [
    "pos_datos = func.posdatos(eliminacion,data_archivos,archivos,precios,k,c)"
   ]
  },
  {
   "cell_type": "code",
   "execution_count": 19,
   "metadata": {},
   "outputs": [],
   "source": [
    "dinero_rest_pasivo = k - pos_datos['Postura'].sum() - pos_datos['Comisiones'].sum()"
   ]
  },
  {
   "cell_type": "code",
   "execution_count": 20,
   "metadata": {},
   "outputs": [],
   "source": [
    "total_comision_pasivo = pos_datos['Comisiones'].sum()"
   ]
  },
  {
   "cell_type": "code",
   "execution_count": 21,
   "metadata": {},
   "outputs": [],
   "source": [
    "# Definimos el dicionario en donde vamos a guardar los resultados de fecha y capital\n",
    "i_pasiva = {'Fechas': ['2018-01-30'], 'Capital': [k]}"
   ]
  },
  {
   "cell_type": "code",
   "execution_count": 22,
   "metadata": {},
   "outputs": [],
   "source": [
    "i_pasiva =func.inversion_pasiva(ic_fechas,pos_datos,precios,dinero_rest_pasivo,i_pasiva)"
   ]
  },
  {
   "cell_type": "code",
   "execution_count": 25,
   "metadata": {},
   "outputs": [
    {
     "data": {
      "text/html": [
       "<div>\n",
       "<style scoped>\n",
       "    .dataframe tbody tr th:only-of-type {\n",
       "        vertical-align: middle;\n",
       "    }\n",
       "\n",
       "    .dataframe tbody tr th {\n",
       "        vertical-align: top;\n",
       "    }\n",
       "\n",
       "    .dataframe thead th {\n",
       "        text-align: right;\n",
       "    }\n",
       "</style>\n",
       "<table border=\"1\" class=\"dataframe\">\n",
       "  <thead>\n",
       "    <tr style=\"text-align: right;\">\n",
       "      <th></th>\n",
       "      <th>Fechas</th>\n",
       "      <th>Capital</th>\n",
       "      <th>Rendimiento</th>\n",
       "      <th>Rendimiento Acumulado</th>\n",
       "    </tr>\n",
       "  </thead>\n",
       "  <tbody>\n",
       "    <tr>\n",
       "      <th>0</th>\n",
       "      <td>2018-01-30</td>\n",
       "      <td>1000000.000000</td>\n",
       "      <td>0.000000</td>\n",
       "      <td>0.000000</td>\n",
       "    </tr>\n",
       "    <tr>\n",
       "      <th>1</th>\n",
       "      <td>2018-01-31</td>\n",
       "      <td>998805.363175</td>\n",
       "      <td>-0.001195</td>\n",
       "      <td>-0.001195</td>\n",
       "    </tr>\n",
       "    <tr>\n",
       "      <th>2</th>\n",
       "      <td>2018-02-28</td>\n",
       "      <td>943330.669604</td>\n",
       "      <td>-0.055541</td>\n",
       "      <td>-0.056736</td>\n",
       "    </tr>\n",
       "    <tr>\n",
       "      <th>3</th>\n",
       "      <td>2018-03-28</td>\n",
       "      <td>918905.545899</td>\n",
       "      <td>-0.025892</td>\n",
       "      <td>-0.082628</td>\n",
       "    </tr>\n",
       "    <tr>\n",
       "      <th>4</th>\n",
       "      <td>2018-04-30</td>\n",
       "      <td>961771.832432</td>\n",
       "      <td>0.046649</td>\n",
       "      <td>-0.035979</td>\n",
       "    </tr>\n",
       "    <tr>\n",
       "      <th>5</th>\n",
       "      <td>2018-05-31</td>\n",
       "      <td>890500.279362</td>\n",
       "      <td>-0.074104</td>\n",
       "      <td>-0.110083</td>\n",
       "    </tr>\n",
       "    <tr>\n",
       "      <th>6</th>\n",
       "      <td>2018-06-29</td>\n",
       "      <td>949877.578751</td>\n",
       "      <td>0.066679</td>\n",
       "      <td>-0.043405</td>\n",
       "    </tr>\n",
       "    <tr>\n",
       "      <th>7</th>\n",
       "      <td>2018-07-31</td>\n",
       "      <td>985791.651030</td>\n",
       "      <td>0.037809</td>\n",
       "      <td>-0.005596</td>\n",
       "    </tr>\n",
       "    <tr>\n",
       "      <th>8</th>\n",
       "      <td>2018-08-31</td>\n",
       "      <td>984427.588637</td>\n",
       "      <td>-0.001384</td>\n",
       "      <td>-0.006979</td>\n",
       "    </tr>\n",
       "    <tr>\n",
       "      <th>9</th>\n",
       "      <td>2018-09-28</td>\n",
       "      <td>983479.624223</td>\n",
       "      <td>-0.000963</td>\n",
       "      <td>-0.007942</td>\n",
       "    </tr>\n",
       "  </tbody>\n",
       "</table>\n",
       "</div>"
      ],
      "text/plain": [
       "       Fechas         Capital  Rendimiento  Rendimiento Acumulado\n",
       "0  2018-01-30  1000000.000000     0.000000               0.000000\n",
       "1  2018-01-31   998805.363175    -0.001195              -0.001195\n",
       "2  2018-02-28   943330.669604    -0.055541              -0.056736\n",
       "3  2018-03-28   918905.545899    -0.025892              -0.082628\n",
       "4  2018-04-30   961771.832432     0.046649              -0.035979\n",
       "5  2018-05-31   890500.279362    -0.074104              -0.110083\n",
       "6  2018-06-29   949877.578751     0.066679              -0.043405\n",
       "7  2018-07-31   985791.651030     0.037809              -0.005596\n",
       "8  2018-08-31   984427.588637    -0.001384              -0.006979\n",
       "9  2018-09-28   983479.624223    -0.000963              -0.007942"
      ]
     },
     "execution_count": 25,
     "metadata": {},
     "output_type": "execute_result"
    }
   ],
   "source": [
    "#Resultado oara inversión pasiva\n",
    "r_pasiva=vis.proceso_pasiva(i_pasiva)\n",
    "r_pasiva.head(10)"
=======
    "# tomando los pasos en los que fuiste haciendo todos los calculos\n",
    "# y poniendo cada uno como un subtitulo con markdown de nivel dos, así ## subtitulo de mi paso"
   ]
  },
  {
   "cell_type": "markdown",
   "metadata": {},
   "source": [
    "<br>"
>>>>>>> 4ca41517bcba488aa6e093b9fa82a271ece54bfd
   ]
  },
  {
   "cell_type": "markdown",
   "metadata": {},
   "source": [
    "# <font color= #6B6B6B> <font size = 6> 5. Conclusiones </font>"
   ]
  },
  {
   "cell_type": "markdown",
   "metadata": {},
   "source": [
    "<hr style=\"border:0.02in solid gray\"> </hr>"
   ]
  },
  {
   "cell_type": "markdown",
   "metadata": {},
   "source": []
  },
  {
   "cell_type": "code",
<<<<<<< HEAD
   "execution_count": 26,
=======
   "execution_count": 3,
>>>>>>> 4ca41517bcba488aa6e093b9fa82a271ece54bfd
   "metadata": {},
   "outputs": [],
   "source": [
    "# en esta seccion es opcional incluir algun codigo para mostrar\n",
    "# visualmente algun concepto o hallazgo relevante como conclusion"
<<<<<<< HEAD
   ]
  },
  {
   "cell_type": "markdown",
   "metadata": {},
   "source": [
    "Como podemos observar la inversión pasiva, es una buena opción para invertir a largo plazo ya que es una buena forma de obtener rendimientos, sin embargo, para los amantes del riesgo, la inversión activa podría ser una mejor opción para obtener mejores rentabilidades y a un corto plazo.\n",
    "\n"
=======
>>>>>>> 4ca41517bcba488aa6e093b9fa82a271ece54bfd
   ]
  }
 ],
 "metadata": {
  "kernelspec": {
   "display_name": "Python 3",
   "language": "python",
   "name": "python3"
  },
  "language_info": {
   "codemirror_mode": {
    "name": "ipython",
    "version": 3
   },
   "file_extension": ".py",
   "mimetype": "text/x-python",
   "name": "python",
   "nbconvert_exporter": "python",
   "pygments_lexer": "ipython3",
<<<<<<< HEAD
   "version": "3.7.3"
=======
   "version": "3.8.2"
>>>>>>> 4ca41517bcba488aa6e093b9fa82a271ece54bfd
  }
 },
 "nbformat": 4,
 "nbformat_minor": 1
}
